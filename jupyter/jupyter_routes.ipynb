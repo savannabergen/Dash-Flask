{
 "cells": [
  {
   "cell_type": "code",
   "execution_count": 46,
   "id": "be85d226-0f25-4aaa-9127-e38c86100542",
   "metadata": {},
   "outputs": [],
   "source": [
    "import requests"
   ]
  },
  {
   "cell_type": "code",
   "execution_count": 47,
   "id": "c2922769-8c8d-444f-92ba-72aab6154a55",
   "metadata": {},
   "outputs": [],
   "source": [
    "CONVERT_API = 'http://127.0.0.1:5000/convert'"
   ]
  },
  {
   "cell_type": "code",
   "execution_count": 48,
   "id": "461094b9-6818-4e15-9e41-1f55bf141c2d",
   "metadata": {},
   "outputs": [],
   "source": [
    "convert = requests.request(\"POST\", CONVERT_API)"
   ]
  },
  {
   "cell_type": "code",
   "execution_count": 49,
   "id": "7b654f03-d75b-4678-adda-f1fe6549abc1",
   "metadata": {},
   "outputs": [
    {
     "name": "stdout",
     "output_type": "stream",
     "text": [
      "200\n"
     ]
    }
   ],
   "source": [
    "print(convert.status_code)"
   ]
  },
  {
   "cell_type": "code",
   "execution_count": 50,
   "id": "1f49a9f3-9f82-47c6-a6a6-6f5a2e432437",
   "metadata": {},
   "outputs": [],
   "source": [
    "PREDICT_API = 'http://127.0.0.1:5000/predict'"
   ]
  },
  {
   "cell_type": "code",
   "execution_count": 53,
   "id": "cc834416-2074-4da7-9736-d361e65fb8a9",
   "metadata": {},
   "outputs": [],
   "source": [
    "predict = requests.request(\"GET\", PREDICT_API)"
   ]
  },
  {
   "cell_type": "code",
   "execution_count": 54,
   "id": "359abf51-aabe-4cfa-afdf-639de50412e7",
   "metadata": {},
   "outputs": [
    {
     "name": "stdout",
     "output_type": "stream",
     "text": [
      "200\n"
     ]
    }
   ],
   "source": [
    "print(predict.status_code)"
   ]
  },
  {
   "cell_type": "code",
   "execution_count": null,
   "id": "2fccba52-c57f-40ae-acbc-c7d2cac1ee0f",
   "metadata": {},
   "outputs": [],
   "source": []
  }
 ],
 "metadata": {
  "kernelspec": {
   "display_name": "Python 3 (ipykernel)",
   "language": "python",
   "name": "python3"
  },
  "language_info": {
   "codemirror_mode": {
    "name": "ipython",
    "version": 3
   },
   "file_extension": ".py",
   "mimetype": "text/x-python",
   "name": "python",
   "nbconvert_exporter": "python",
   "pygments_lexer": "ipython3",
   "version": "3.12.2"
  }
 },
 "nbformat": 4,
 "nbformat_minor": 5
}
